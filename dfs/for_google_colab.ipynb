{
  "nbformat": 4,
  "nbformat_minor": 0,
  "metadata": {
    "colab": {
      "provenance": []
    },
    "kernelspec": {
      "name": "python3",
      "display_name": "Python 3"
    },
    "language_info": {
      "name": "python"
    }
  },
  "cells": [
    {
      "cell_type": "code",
      "execution_count": null,
      "metadata": {
        "id": "YftvECl0PAuV"
      },
      "outputs": [],
      "source": [
        "!git clone https://github.com/SakanaAI/evolutionary-model-merge.git"
      ]
    },
    {
      "cell_type": "code",
      "source": [
        "!pip uninstall torch\n",
        "!pip uninstall torchaudio\n",
        "!pip install torch==2.1.2\n",
        "!pip install torchaudio==2.1.2\n",
        "!pip install torchtext==0.16.1\n",
        "!pip install torchvision==0.16.1\n",
        "!pip install transformers==4.38.2\n",
        "!pip install datasets==2.18.0\n",
        "!pip install gradio==4.21.0\n",
        "!pip install accelerate==0.27.2\n",
        "!pip install rouge-score==0.1.2\n",
        "!pip install emoji==2.10.1\n",
        "!pip install fugashi==1.3.1\n",
        "!pip install neologdn==0.5.2\n",
        "!pip install unidic-lite==1.0.8\n",
        "!pip install fasttext==0.9.2\n",
        "!pip install einops==0.7.0\n",
        "!pip install sentencepiece==0.2.0\n",
        "!pip install fastai==2.7.15\n",
        "!pip install xformers==0.0.23.post1\n",
        "\n",
        "!pip install git+https://github.com/SakanaAI/vllm.git"
      ],
      "metadata": {
        "id": "kN-Hj1zjPI-P"
      },
      "execution_count": null,
      "outputs": []
    },
    {
      "cell_type": "code",
      "source": [
        "!pip install fastest\n",
        "import fasttext\n",
        "import os\n",
        "\n",
        "url = \"https://dl.fbaipublicfiles.com/fasttext/supervised-models/lid.176.ftz\"\n",
        "\n",
        "model_dir = \"/content/models\"\n",
        "model_path = os.path.join(model_dir, \"lid.176.ftz\")\n",
        "os.makedirs(model_dir, exist_ok=True)\n",
        "!wget -O {model_path} {url}\n",
        "lid_model = fasttext.load_model(model_path)"
      ],
      "metadata": {
        "id": "4Nm0xDocPNTZ"
      },
      "execution_count": null,
      "outputs": []
    },
    {
      "cell_type": "code",
      "source": [
        "%cd /content/evolutionary-model-merge\n",
        "!python evaluate.py --config_path {\"configs/llm/evollm-v1-jp-10b.yaml\"}"
      ],
      "metadata": {
        "id": "3njd9ig1PYdy"
      },
      "execution_count": null,
      "outputs": []
    },
    {
      "cell_type": "code",
      "source": [
        "from transformers import AutoModel, AutoTokenizer\n",
        "import torch\n",
        "import gc\n",
        "\n",
        "# SakanaAI/EvoLLM-JP-v1-7B のロード\n",
        "evo_model_name = \"SakanaAI/EvoLLM-JP-v1-7B\"\n",
        "evo_model = AutoModel.from_pretrained(evo_model_name)\n",
        "evo_tokenizer = AutoTokenizer.from_pretrained(evo_model_name)\n",
        "\n",
        "# augmxnt/shisa-gamma-7b-v1 のロード\n",
        "shisa_model_name = \"augmxnt/shisa-gamma-7b-v1\"\n",
        "shisa_model = AutoModel.from_pretrained(shisa_model_name)\n",
        "shisa_tokenizer = AutoTokenizer.from_pretrained(shisa_model_name)\n",
        "\n",
        "# メモリ解放\n",
        "def free_model_memory(model):\n",
        "    del model\n",
        "    torch.cuda.empty_cache()\n",
        "    gc.collect()\n",
        "\n",
        "# SakanaAI/EvoLLM-JP-v1-7B のメモリを解放\n",
        "free_model_memory(evo_model)\n",
        "free_model_memory(evo_tokenizer)\n",
        "\n",
        "# augmxnt/shisa-gamma-7b-v1 のメモリを解放\n",
        "free_model_memory(shisa_model)\n",
        "free_model_memory(shisa_tokenizer)"
      ],
      "metadata": {
        "id": "TpzOvN7FPk2x"
      },
      "execution_count": null,
      "outputs": []
    },
    {
      "cell_type": "code",
      "source": [
        "import os\n",
        "os._exit(00)"
      ],
      "metadata": {
        "id": "NxlStH_xPo8O"
      },
      "execution_count": null,
      "outputs": []
    },
    {
      "cell_type": "code",
      "source": [
        "%cd /content\n",
        "!git clone https://github.com/TakuyaMitarai/EvoModelMerge_with_Symbiotic_Evolution.git\n",
        "%cd EvoModelMerge_with_Symbiotic_Evolution/dfs"
      ],
      "metadata": {
        "id": "iiLtqT03PtxS"
      },
      "execution_count": null,
      "outputs": []
    },
    {
      "cell_type": "code",
      "source": [
        "# SakanaAI/EvoLLM-JP-v1-7Bのパラメータファイルへのリンク\n",
        "%mv /root/.cache/huggingface/hub/models--SakanaAI--EvoLLM-JP-v1-7B/snapshots/a7acd2604d3e9f0fca2987d2448ff5dc19778c21/model-00001-of-00003.safetensors /root/.cache/huggingface/hub/models--SakanaAI--EvoLLM-JP-v1-10B/snapshots/78cad5aad0897f75df8b6ee17983de0be133eb0f/0model-00001-of-00003.safetensors\n",
        "%mv /root/.cache/huggingface/hub/models--SakanaAI--EvoLLM-JP-v1-7B/snapshots/a7acd2604d3e9f0fca2987d2448ff5dc19778c21/model-00002-of-00003.safetensors /root/.cache/huggingface/hub/models--SakanaAI--EvoLLM-JP-v1-10B/snapshots/78cad5aad0897f75df8b6ee17983de0be133eb0f/0model-00002-of-00003.safetensors\n",
        "%mv /root/.cache/huggingface/hub/models--SakanaAI--EvoLLM-JP-v1-7B/snapshots/a7acd2604d3e9f0fca2987d2448ff5dc19778c21/model-00003-of-00003.safetensors /root/.cache/huggingface/hub/models--SakanaAI--EvoLLM-JP-v1-10B/snapshots/78cad5aad0897f75df8b6ee17983de0be133eb0f/0model-00003-of-00003.safetensors"
      ],
      "metadata": {
        "id": "akCRcNmkPz0E"
      },
      "execution_count": null,
      "outputs": []
    },
    {
      "cell_type": "code",
      "source": [
        "# augmxnt/shisa-gamma-7b-v1　修正必要\n",
        "%mv /root/.cache/huggingface/hub/models--SakanaAI--EvoLLM-JP-v1-7B/snapshots/a7acd2604d3e9f0fca2987d2448ff5dc19778c21/model-00001-of-00003.safetensors /root/.cache/huggingface/hub/models--SakanaAI--EvoLLM-JP-v1-10B/snapshots/78cad5aad0897f75df8b6ee17983de0be133eb0f/0model-00001-of-00003.safetensors\n",
        "%mv /root/.cache/huggingface/hub/models--SakanaAI--EvoLLM-JP-v1-7B/snapshots/a7acd2604d3e9f0fca2987d2448ff5dc19778c21/model-00002-of-00003.safetensors /root/.cache/huggingface/hub/models--SakanaAI--EvoLLM-JP-v1-10B/snapshots/78cad5aad0897f75df8b6ee17983de0be133eb0f/0model-00002-of-00003.safetensors\n",
        "%mv /root/.cache/huggingface/hub/models--SakanaAI--EvoLLM-JP-v1-7B/snapshots/a7acd2604d3e9f0fca2987d2448ff5dc19778c21/model-00003-of-00003.safetensors /root/.cache/huggingface/hub/models--SakanaAI--EvoLLM-JP-v1-10B/snapshots/78cad5aad0897f75df8b6ee17983de0be133eb0f/0model-00003-of-00003.safetensors"
      ],
      "metadata": {
        "id": "9LnGGuVhQNc8"
      },
      "execution_count": null,
      "outputs": []
    },
    {
      "cell_type": "code",
      "source": [
        "# SakanaAI/EvoLLM-JP-v1-7Bのパラメータファイル\n",
        "%mv /root/.cache/huggingface/hub/models--SakanaAI--EvoLLM-JP-v1-7B/blobs/ed2c056d7b2c76c2ee5122533793f1a6920318d4b57730a34675a6078dd3be06 /root/.cache/huggingface/hub/models--SakanaAI--EvoLLM-JP-v1-10B/blobs/ed2c056d7b2c76c2ee5122533793f1a6920318d4b57730a34675a6078dd3be06\n",
        "%mv /root/.cache/huggingface/hub/models--SakanaAI--EvoLLM-JP-v1-7B/blobs/0896e010e5b163b1c4e262b4663069c31994728be8b6014570e8bf3bbac6458b /root/.cache/huggingface/hub/models--SakanaAI--EvoLLM-JP-v1-10B/blobs/0896e010e5b163b1c4e262b4663069c31994728be8b6014570e8bf3bbac6458b\n",
        "%mv /root/.cache/huggingface/hub/models--SakanaAI--EvoLLM-JP-v1-7B/blobs/df681d4220f14d4a77a6af7b069e59eadee4b48703695f016f8f7bf63b9a9442 /root/.cache/huggingface/hub/models--SakanaAI--EvoLLM-JP-v1-10B/blobs/df681d4220f14d4a77a6af7b069e59eadee4b48703695f016f8f7bf63b9a9442"
      ],
      "metadata": {
        "id": "6rAx1z9AQtCD"
      },
      "execution_count": null,
      "outputs": []
    },
    {
      "cell_type": "code",
      "source": [
        "%cd /EvoModelMerge_with_Symbiotic_Evolution/dfs\n",
        "!python safetensorsfileplus64.py"
      ],
      "metadata": {
        "id": "j90gh7WYVOzX"
      },
      "execution_count": null,
      "outputs": []
    },
    {
      "cell_type": "code",
      "source": [
        "!python evo.py"
      ],
      "metadata": {
        "id": "DCYugJh_RPhw"
      },
      "execution_count": null,
      "outputs": []
    },
    {
      "cell_type": "code",
      "source": [
        "# デバッグ用\n",
        "import json\n",
        "import os\n",
        "\n",
        "base_path = \"/root/.cache/huggingface/hub/models--SakanaAI--EvoLLM-JP-v1-10B/snapshots/78cad5aad0897f75df8b6ee17983de0be133eb0f/\"\n",
        "\n",
        "config_file_path = os.path.join(base_path, \"config.json\")\n",
        "index_file_path = os.path.join(base_path, \"model.safetensors.index.json\")\n",
        "layer_info_file_path = os.path.join(base_path, \"model-layer_info.safetensors\")\n",
        "\n",
        "if os.path.exists(config_file_path):\n",
        "    with open(config_file_path, \"r\") as file:\n",
        "        config_data = json.load(file)\n",
        "    print(\"config.json data:\")\n",
        "    print(json.dumps(config_data, indent=2))\n",
        "else:\n",
        "    print(f\"{config_file_path} does not exist.\")\n",
        "\n",
        "if os.path.exists(index_file_path):\n",
        "    with open(index_file_path, \"r\") as file:\n",
        "        index_data = json.load(file)\n",
        "    print(\"\\nmodel.safetensors.index.json data:\")\n",
        "    print(json.dumps(index_data, indent=2))\n",
        "else:\n",
        "    print(f\"{index_file_path} does not exist.\")\n",
        "\n",
        "if os.path.exists(layer_info_file_path):\n",
        "    with open(layer_info_file_path, \"rb\") as file:\n",
        "        layer_info_data = file.read()\n",
        "    print(\"\\nmodel-layer_info.safetensors data:\")\n",
        "    print(layer_info_data.hex())\n",
        "else:\n",
        "    print(f\"{layer_info_file_path} does not exist.\")"
      ],
      "metadata": {
        "id": "zXXtJHl9RdCF"
      },
      "execution_count": null,
      "outputs": []
    },
    {
      "cell_type": "code",
      "source": [
        "import os\n",
        "\n",
        "file_path = \"/root/.cache/huggingface/hub/models--SakanaAI--EvoLLM-JP-v1-10B/snapshots/78cad5aad0897f75df8b6ee17983de0be133eb0f/1model-00010-of-00012.safetensors\"\n",
        "\n",
        "if os.path.exists(file_path):\n",
        "    print(\"File exists\")\n",
        "else:\n",
        "    print(\"File does not exist\")"
      ],
      "metadata": {
        "id": "6hm-salPRuEl"
      },
      "execution_count": null,
      "outputs": []
    },
    {
      "cell_type": "code",
      "source": [
        "file_path = \"/root/.cache/huggingface/hub/models--SakanaAI--EvoLLM-JP-v1-10B/snapshots/78cad5aad0897f75df8b6ee17983de0be133eb0f/1model-00010-of-00012.safetensors\"\n",
        "\n",
        "with open(file_path, 'rb') as file:\n",
        "    first_line = file.readline()\n",
        "print(first_line)"
      ],
      "metadata": {
        "id": "pKoxWLqZRu4F"
      },
      "execution_count": null,
      "outputs": []
    }
  ]
}